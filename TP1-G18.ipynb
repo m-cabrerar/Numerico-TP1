{
 "cells": [
  {
   "attachments": {},
   "cell_type": "markdown",
   "metadata": {},
   "source": [
    "# Analisis numérico - TP N1\n",
    "## Búsqueda de raíces\n",
    "\n",
    "### Curso:\n",
    "    Sassano\n",
    "### Integrantes:       \n",
    "    Apellido y nombre           mail                  padrón\n",
    "    Romero Espinoza, J .        ajromero@fi.uba.ar    103942\n",
    "    Cabrera Rodríguez, Mateo.   mcabrerar@gmail.com   108118\n",
    "\n",
    "### Lenguaje elegido: \n",
    "    Python\n",
    "    "
   ]
  },
  {
   "cell_type": "code",
   "execution_count": 1,
   "metadata": {},
   "outputs": [],
   "source": [
    "#Importamos las librerías a usar\n",
    "\n",
    "import numpy as np\n",
    "import matplotlib.pyplot as plt\n",
    "plt.style.use('ggplot')\n",
    "import random"
   ]
  },
  {
   "attachments": {},
   "cell_type": "markdown",
   "metadata": {},
   "source": [
    "# 1. Fuerza Bruta\n",
    "Vamos a descubrir la contraseña de un candado \n",
    "<ol type=\"a\">\n",
    "    <li> Definir un número entero de 3 dígitos al azar a tráves de la función random, simulando la\n",
    "    clave de un candado.</li>\n",
    "    <li> Programar un algoritmo de fuerza bruta para hallar la clave.</li>\n",
    "    <li> Realizar el experimento al menos 100000 veces, anotando la cantidad de intentos realizados\n",
    "    hasta hallar la respuesta.</li>\n",
    "    <li> Realizar un histograma para gráficar los intentos. Las columnas del histograma serán separadas en 0-10, 10-20, 20-30, etc...</li>\n",
    "    <li> ¿Sirve como método de búsqueda de raíces?</li>\n",
    "    <li> ¿Bajo que condiciones lo utilizaría?</li>\n",
    "    <li> ¿Sería correcto hablar de convergencia?</li>\n",
    "</ol>"
   ]
  },
  {
   "cell_type": "code",
   "execution_count": 5,
   "metadata": {},
   "outputs": [
    {
     "name": "stdout",
     "output_type": "stream",
     "text": [
      "Por ejemplo, una clave al azar es:  534\n"
     ]
    }
   ],
   "source": [
    "\n",
    "# a. Se define una clave de 3 dígitos al azar\n",
    "def nueva_clave():\n",
    "    clave = random.randint(0,999)\n",
    "    clave = str(clave).zfill(3)\n",
    "    return clave\n",
    "\n",
    "print(\"Por ejemplo, una clave al azar es: \", nueva_clave())"
   ]
  },
  {
   "cell_type": "code",
   "execution_count": 6,
   "metadata": {},
   "outputs": [],
   "source": [
    "# b. Programamos un algorimo de fuerza bruta para encontrar la clave\n",
    "def fuerza_bruta(clave):\n",
    "    for i in range(1000):\n",
    "        if clave == str(i).zfill(3):\n",
    "            return i\n"
   ]
  },
  {
   "cell_type": "code",
   "execution_count": 7,
   "metadata": {},
   "outputs": [],
   "source": [
    "\n",
    "# c. Generamos una clave al azar y usamos fuerza bruta para encontrarla 1000000 veces, anotando la cantidad de intentos por cada búsqueda\n",
    "ITERACIONES = 1000000\n",
    "intentos = []\n",
    "for i in range(ITERACIONES):\n",
    "    clave = nueva_clave()\n",
    "    n = fuerza_bruta(clave)\n",
    "\n",
    "    intentos.append(n)"
   ]
  },
  {
   "cell_type": "code",
   "execution_count": 3,
   "metadata": {},
   "outputs": [
    {
     "name": "stdout",
     "output_type": "stream",
     "text": [
      "Por ejemplo, una clave al azar es:  561\n"
     ]
    },
    {
     "data": {
      "image/png": "[encoded data removed]",
      "text/plain": [
       "<Figure size 640x480 with 1 Axes>"
      ]
     },
     "metadata": {},
     "output_type": "display_data"
    }
   ],
   "source": [
    "# d. Realizamos un histograma para mostrar la frecuencia de intentos.\n",
    "plt.hist(intentos, bins=100)\n",
    "plt.xlabel(\"Intentos\")\n",
    "plt.ylabel(\"Frecuencia\")\n",
    "plt.title(\"Histograma de intentos para encontrar una clave de 3 dígitos\")\n",
    "plt.show()"
   ]
  },
  {
   "attachments": {},
   "cell_type": "markdown",
   "metadata": {},
   "source": [
    "# 2. Hallar π por dos caminos\n",
    "<ol type=\"a\">\n",
    "    <li> Programar un algoritmo para aproximar π utilizando la función seno(x) con el método de Newton-Raphson, en función de x, que realice iteraciones hasta alcanzar el límite de la herramienta utilizada.</li>\n",
    "    <li> Programar un algoritmo para aproximar π utilizando la serie de Leibniz, en función de n.</li>\n",
    "    <li> Ejecutar los programas solicitados en a y b utilizando representación de punto flotante de 32 bits y comparar las respuestas obtenidas con n = 10, n = 100, n = 1000, n = 10000 y n = 100000.</li>\n",
    "    <li> Ejecutar los programas solicitados en a y b utilizando representación de punto flotante de 64 bits y comparar las respuestas obtenidas con n = 10, n = 100, n = 1000, n = 10000 y n = 100000.</li>\n",
    "    <li> (OPCIONAL) Ejecutar los programas solicitados en a y b con una calculadora (aclarar marca y modelo) y comparar las respuestas obtenidas con n = 10, n = 100, n = 1000, n = 10000 y n = 100000 (en caso de no alcanzar la memoria de la calculadora utilizar el máximo n posible).</li>\n",
    "    <li> Representar las dos respuestas finales obtenidas (para n = 100000 y el método de Newton Raphson) en c, d y e de manera de expresarlo como π = ¯π + ∆π.</li>\n",
    "    <li> ¿Podemos afirmar qué para la computadora el número π es una constante?</li>\n",
    "</ol>"
   ]
  },
  {
   "cell_type": "code",
   "execution_count": null,
   "metadata": {},
   "outputs": [],
   "source": []
  },
  {
   "attachments": {},
   "cell_type": "markdown",
   "metadata": {},
   "source": [
    "# 3. Búsqueda de raíces\n",
    "Para las siguientes funciones continuas y con ra´ız ´unica en el intervalo [0, 3]:\n",
    "\n",
    "$f_1(x) = x^3 - 19$\n",
    "\n",
    "$f_2(x) = x^5 - 7.3x^4 + 2.24x^3 + 30.106x^2 - 42.1x + 15.94$\n",
    "\n",
    "$f_3(x) = (x - 0.9)e^{-4(x-0.9)^2}$\n",
    "\n",
    "se pide:\n",
    "<ol type=\"a\">\n",
    "    <li> Graficar las funciones en el intervalo de interés.</li>\n",
    "    <li> Halle para cada una de ellas la raíz en el intervalo indicado mediante los métodos vistos en clase:\n",
    "        <ul>\n",
    "            <li> Bisección</li>\n",
    "            <li> Punto Fijo</li>\n",
    "            <li> Secante</li>\n",
    "            <li> Newton-Raphson</li>\n",
    "            <li> Newton-Raphson modificado</li>\n",
    "        </ul>\n",
    "        Use para todos los métodos como criterio de parada las siguientes diferencia entre dos iteraciones sucesivas:\n",
    "        <ul>\n",
    "            <li>1 · 10<sup>-5</sup></li>\n",
    "            <li>1 · 10<sup>-13</sup></li>\n",
    "        </ul>\n",
    "        Para Newton-Raphson use semilla x<sub>0</sub> = 0.5.\n",
    "        Mostrar en una tabla por cada método los resultados obtenidos (en caso que se obtengan muchas iteraciones se pueden mostrar las primeras 5 y las últimas 5).</li>\n",
    "    <li> Halle la raíz mediante la función de búsqueda de raíces de un lenguaje o paquete orientado a cálculo numérico (e.g. Python+SciPy: scipy.optimize.brentq). Al resultado obtenido le vamos a asignar como \"xReal\".</li>\n",
    "    <li> Compare los resultados obtenidos para los distintos métodos y cotas de error, grafique para todos los casos:\n",
    "        <ul>\n",
    "            <li>Orden de convergencia P vs iteraciones</li>\n",
    "            <li>Constante asintótica λ vs iteraciones</li>\n",
    "            <li>log<sub>10</sub>(/∆x/) vs iteraciones</li>\n",
    "            <li>log<sub>10</sub>(/x<sub>Candidata</sub> - x<sub>Real</sub>/) vs iteraciones</li>\n",
    "        </ul>\n",
    "        Discuta ventajas y desventajas. ¿Son las que esperaba en base a la teoría?</li>\n",
    "</ol>"
   ]
  }
 ],
 "metadata": {
  "kernelspec": {
   "display_name": "Python 3",
   "language": "python",
   "name": "python3"
  },
  "language_info": {
   "codemirror_mode": {
    "name": "ipython",
    "version": 3
   },
   "file_extension": ".py",
   "mimetype": "text/x-python",
   "name": "python",
   "nbconvert_exporter": "python",
   "pygments_lexer": "ipython3",
   "version": "3.10.5"
  },
  "orig_nbformat": 4
 },
 "nbformat": 4,
 "nbformat_minor": 2
}
